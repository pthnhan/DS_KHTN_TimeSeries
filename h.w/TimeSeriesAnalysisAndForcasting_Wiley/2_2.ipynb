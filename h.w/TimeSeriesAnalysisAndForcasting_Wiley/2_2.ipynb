{
  "nbformat": 4,
  "nbformat_minor": 0,
  "metadata": {
    "colab": {
      "name": "2.2.ipynb",
      "provenance": [],
      "collapsed_sections": [],
      "authorship_tag": "ABX9TyPCYL4KRY2BTkoLp0OxaDG1",
      "include_colab_link": true
    },
    "kernelspec": {
      "name": "python3",
      "display_name": "Python 3"
    },
    "language_info": {
      "name": "python"
    }
  },
  "cells": [
    {
      "cell_type": "markdown",
      "metadata": {
        "id": "view-in-github",
        "colab_type": "text"
      },
      "source": [
        "<a href=\"https://colab.research.google.com/github/pthnhan/DS_KHTN_TimeSeries/blob/main/h.w/TimeSeriesAnalysisAndForcasting_Wiley/2_2.ipynb\" target=\"_parent\"><img src=\"https://colab.research.google.com/assets/colab-badge.svg\" alt=\"Open In Colab\"/></a>"
      ]
    },
    {
      "cell_type": "markdown",
      "metadata": {
        "id": "Sru1RhY88CT-"
      },
      "source": [
        "**Problem 2.2**\n",
        "\n",
        "**Consider the data on US production of blue and gorgonzola cheeses in Table B.4.**\n",
        "\n",
        "**a. Find the sample autocorrelation function and the variogram for these data. Is the time series stationary or nonstationary?**\n",
        "\n",
        "**b. Take the first difference of the time series, then find the sample autocorrelation function and the variogram. What conclusions can you draw about the structure and behavior of the time series?**\n"
      ]
    },
    {
      "cell_type": "code",
      "metadata": {
        "id": "muKs3bFVq91h",
        "colab": {
          "base_uri": "https://localhost:8080/"
        },
        "outputId": "f142eab2-45fa-41c7-9c2f-52d0cfb4cf9b"
      },
      "source": [
        "import pandas as pd\n",
        "import statsmodels.api as sm\n",
        "import matplotlib.pyplot as plt\n",
        "from statsmodels.graphics.tsaplots import plot_acf, acf, plot_pacf\n",
        "!pip install scikit-gstat\n",
        "import skgstat as skg"
      ],
      "execution_count": 144,
      "outputs": [
        {
          "output_type": "stream",
          "text": [
            "Requirement already satisfied: scikit-gstat in /usr/local/lib/python3.7/dist-packages (0.6.3)\n",
            "Requirement already satisfied: scipy in /usr/local/lib/python3.7/dist-packages (from scikit-gstat) (1.4.1)\n",
            "Requirement already satisfied: tqdm in /usr/local/lib/python3.7/dist-packages (from scikit-gstat) (4.41.1)\n",
            "Requirement already satisfied: numpy in /usr/local/lib/python3.7/dist-packages (from scikit-gstat) (1.19.5)\n",
            "Requirement already satisfied: matplotlib in /usr/local/lib/python3.7/dist-packages (from scikit-gstat) (3.2.2)\n",
            "Requirement already satisfied: imageio in /usr/local/lib/python3.7/dist-packages (from scikit-gstat) (2.4.1)\n",
            "Requirement already satisfied: scikit-learn in /usr/local/lib/python3.7/dist-packages (from scikit-gstat) (0.22.2.post1)\n",
            "Requirement already satisfied: numba in /usr/local/lib/python3.7/dist-packages (from scikit-gstat) (0.51.2)\n",
            "Requirement already satisfied: pandas in /usr/local/lib/python3.7/dist-packages (from scikit-gstat) (1.1.5)\n",
            "Requirement already satisfied: pyparsing!=2.0.4,!=2.1.2,!=2.1.6,>=2.0.1 in /usr/local/lib/python3.7/dist-packages (from matplotlib->scikit-gstat) (2.4.7)\n",
            "Requirement already satisfied: cycler>=0.10 in /usr/local/lib/python3.7/dist-packages (from matplotlib->scikit-gstat) (0.10.0)\n",
            "Requirement already satisfied: python-dateutil>=2.1 in /usr/local/lib/python3.7/dist-packages (from matplotlib->scikit-gstat) (2.8.1)\n",
            "Requirement already satisfied: kiwisolver>=1.0.1 in /usr/local/lib/python3.7/dist-packages (from matplotlib->scikit-gstat) (1.3.1)\n",
            "Requirement already satisfied: pillow in /usr/local/lib/python3.7/dist-packages (from imageio->scikit-gstat) (7.1.2)\n",
            "Requirement already satisfied: joblib>=0.11 in /usr/local/lib/python3.7/dist-packages (from scikit-learn->scikit-gstat) (1.0.1)\n",
            "Requirement already satisfied: llvmlite<0.35,>=0.34.0.dev0 in /usr/local/lib/python3.7/dist-packages (from numba->scikit-gstat) (0.34.0)\n",
            "Requirement already satisfied: setuptools in /usr/local/lib/python3.7/dist-packages (from numba->scikit-gstat) (57.0.0)\n",
            "Requirement already satisfied: pytz>=2017.2 in /usr/local/lib/python3.7/dist-packages (from pandas->scikit-gstat) (2018.9)\n",
            "Requirement already satisfied: six in /usr/local/lib/python3.7/dist-packages (from cycler>=0.10->matplotlib->scikit-gstat) (1.15.0)\n"
          ],
          "name": "stdout"
        }
      ]
    },
    {
      "cell_type": "code",
      "metadata": {
        "id": "z5C97M-fuJxo",
        "colab": {
          "base_uri": "https://localhost:8080/",
          "height": 1000
        },
        "outputId": "141c78e6-2fc0-45bf-f1ad-d500be68575b"
      },
      "source": [
        "data = pd.read_excel(\"https://github.com/pthnhan/DS_KHTN_TimeSeries/blob/main/data/Time%20Series%20and%20Forecasting%20Appendix%20B%20Tables.xls?raw=true\", sheet_name='B.4-BLUE', header = 3)\n",
        "display(data.shape)\n",
        "data\n"
      ],
      "execution_count": 161,
      "outputs": [
        {
          "output_type": "display_data",
          "data": {
            "text/plain": [
              "(48, 2)"
            ]
          },
          "metadata": {
            "tags": []
          }
        },
        {
          "output_type": "execute_result",
          "data": {
            "text/html": [
              "<div>\n",
              "<style scoped>\n",
              "    .dataframe tbody tr th:only-of-type {\n",
              "        vertical-align: middle;\n",
              "    }\n",
              "\n",
              "    .dataframe tbody tr th {\n",
              "        vertical-align: top;\n",
              "    }\n",
              "\n",
              "    .dataframe thead th {\n",
              "        text-align: right;\n",
              "    }\n",
              "</style>\n",
              "<table border=\"1\" class=\"dataframe\">\n",
              "  <thead>\n",
              "    <tr style=\"text-align: right;\">\n",
              "      <th></th>\n",
              "      <th>Year</th>\n",
              "      <th>Production, thousand lbs</th>\n",
              "    </tr>\n",
              "  </thead>\n",
              "  <tbody>\n",
              "    <tr>\n",
              "      <th>0</th>\n",
              "      <td>1950</td>\n",
              "      <td>7657</td>\n",
              "    </tr>\n",
              "    <tr>\n",
              "      <th>1</th>\n",
              "      <td>1951</td>\n",
              "      <td>5451</td>\n",
              "    </tr>\n",
              "    <tr>\n",
              "      <th>2</th>\n",
              "      <td>1952</td>\n",
              "      <td>10883</td>\n",
              "    </tr>\n",
              "    <tr>\n",
              "      <th>3</th>\n",
              "      <td>1953</td>\n",
              "      <td>9554</td>\n",
              "    </tr>\n",
              "    <tr>\n",
              "      <th>4</th>\n",
              "      <td>1954</td>\n",
              "      <td>9519</td>\n",
              "    </tr>\n",
              "    <tr>\n",
              "      <th>5</th>\n",
              "      <td>1955</td>\n",
              "      <td>10047</td>\n",
              "    </tr>\n",
              "    <tr>\n",
              "      <th>6</th>\n",
              "      <td>1956</td>\n",
              "      <td>10663</td>\n",
              "    </tr>\n",
              "    <tr>\n",
              "      <th>7</th>\n",
              "      <td>1957</td>\n",
              "      <td>10864</td>\n",
              "    </tr>\n",
              "    <tr>\n",
              "      <th>8</th>\n",
              "      <td>1958</td>\n",
              "      <td>11447</td>\n",
              "    </tr>\n",
              "    <tr>\n",
              "      <th>9</th>\n",
              "      <td>1959</td>\n",
              "      <td>12710</td>\n",
              "    </tr>\n",
              "    <tr>\n",
              "      <th>10</th>\n",
              "      <td>1960</td>\n",
              "      <td>15169</td>\n",
              "    </tr>\n",
              "    <tr>\n",
              "      <th>11</th>\n",
              "      <td>1961</td>\n",
              "      <td>16205</td>\n",
              "    </tr>\n",
              "    <tr>\n",
              "      <th>12</th>\n",
              "      <td>1962</td>\n",
              "      <td>14507</td>\n",
              "    </tr>\n",
              "    <tr>\n",
              "      <th>13</th>\n",
              "      <td>1963</td>\n",
              "      <td>15400</td>\n",
              "    </tr>\n",
              "    <tr>\n",
              "      <th>14</th>\n",
              "      <td>1964</td>\n",
              "      <td>16800</td>\n",
              "    </tr>\n",
              "    <tr>\n",
              "      <th>15</th>\n",
              "      <td>1965</td>\n",
              "      <td>19000</td>\n",
              "    </tr>\n",
              "    <tr>\n",
              "      <th>16</th>\n",
              "      <td>1966</td>\n",
              "      <td>20198</td>\n",
              "    </tr>\n",
              "    <tr>\n",
              "      <th>17</th>\n",
              "      <td>1967</td>\n",
              "      <td>18573</td>\n",
              "    </tr>\n",
              "    <tr>\n",
              "      <th>18</th>\n",
              "      <td>1968</td>\n",
              "      <td>19375</td>\n",
              "    </tr>\n",
              "    <tr>\n",
              "      <th>19</th>\n",
              "      <td>1969</td>\n",
              "      <td>21032</td>\n",
              "    </tr>\n",
              "    <tr>\n",
              "      <th>20</th>\n",
              "      <td>1970</td>\n",
              "      <td>23250</td>\n",
              "    </tr>\n",
              "    <tr>\n",
              "      <th>21</th>\n",
              "      <td>1971</td>\n",
              "      <td>25219</td>\n",
              "    </tr>\n",
              "    <tr>\n",
              "      <th>22</th>\n",
              "      <td>1972</td>\n",
              "      <td>28549</td>\n",
              "    </tr>\n",
              "    <tr>\n",
              "      <th>23</th>\n",
              "      <td>1973</td>\n",
              "      <td>29759</td>\n",
              "    </tr>\n",
              "    <tr>\n",
              "      <th>24</th>\n",
              "      <td>1974</td>\n",
              "      <td>28262</td>\n",
              "    </tr>\n",
              "    <tr>\n",
              "      <th>25</th>\n",
              "      <td>1975</td>\n",
              "      <td>28506</td>\n",
              "    </tr>\n",
              "    <tr>\n",
              "      <th>26</th>\n",
              "      <td>1976</td>\n",
              "      <td>33885</td>\n",
              "    </tr>\n",
              "    <tr>\n",
              "      <th>27</th>\n",
              "      <td>1977</td>\n",
              "      <td>34776</td>\n",
              "    </tr>\n",
              "    <tr>\n",
              "      <th>28</th>\n",
              "      <td>1978</td>\n",
              "      <td>35347</td>\n",
              "    </tr>\n",
              "    <tr>\n",
              "      <th>29</th>\n",
              "      <td>1979</td>\n",
              "      <td>34628</td>\n",
              "    </tr>\n",
              "    <tr>\n",
              "      <th>30</th>\n",
              "      <td>1980</td>\n",
              "      <td>33043</td>\n",
              "    </tr>\n",
              "    <tr>\n",
              "      <th>31</th>\n",
              "      <td>1981</td>\n",
              "      <td>30214</td>\n",
              "    </tr>\n",
              "    <tr>\n",
              "      <th>32</th>\n",
              "      <td>1982</td>\n",
              "      <td>31013</td>\n",
              "    </tr>\n",
              "    <tr>\n",
              "      <th>33</th>\n",
              "      <td>1983</td>\n",
              "      <td>31496</td>\n",
              "    </tr>\n",
              "    <tr>\n",
              "      <th>34</th>\n",
              "      <td>1984</td>\n",
              "      <td>34115</td>\n",
              "    </tr>\n",
              "    <tr>\n",
              "      <th>35</th>\n",
              "      <td>1985</td>\n",
              "      <td>33433</td>\n",
              "    </tr>\n",
              "    <tr>\n",
              "      <th>36</th>\n",
              "      <td>1986</td>\n",
              "      <td>34198</td>\n",
              "    </tr>\n",
              "    <tr>\n",
              "      <th>37</th>\n",
              "      <td>1987</td>\n",
              "      <td>35863</td>\n",
              "    </tr>\n",
              "    <tr>\n",
              "      <th>38</th>\n",
              "      <td>1988</td>\n",
              "      <td>37789</td>\n",
              "    </tr>\n",
              "    <tr>\n",
              "      <th>39</th>\n",
              "      <td>1989</td>\n",
              "      <td>34561</td>\n",
              "    </tr>\n",
              "    <tr>\n",
              "      <th>40</th>\n",
              "      <td>1990</td>\n",
              "      <td>36434</td>\n",
              "    </tr>\n",
              "    <tr>\n",
              "      <th>41</th>\n",
              "      <td>1991</td>\n",
              "      <td>34371</td>\n",
              "    </tr>\n",
              "    <tr>\n",
              "      <th>42</th>\n",
              "      <td>1992</td>\n",
              "      <td>33307</td>\n",
              "    </tr>\n",
              "    <tr>\n",
              "      <th>43</th>\n",
              "      <td>1993</td>\n",
              "      <td>33295</td>\n",
              "    </tr>\n",
              "    <tr>\n",
              "      <th>44</th>\n",
              "      <td>1994</td>\n",
              "      <td>36514</td>\n",
              "    </tr>\n",
              "    <tr>\n",
              "      <th>45</th>\n",
              "      <td>1995</td>\n",
              "      <td>36593</td>\n",
              "    </tr>\n",
              "    <tr>\n",
              "      <th>46</th>\n",
              "      <td>1996</td>\n",
              "      <td>38311</td>\n",
              "    </tr>\n",
              "    <tr>\n",
              "      <th>47</th>\n",
              "      <td>1997</td>\n",
              "      <td>42773</td>\n",
              "    </tr>\n",
              "  </tbody>\n",
              "</table>\n",
              "</div>"
            ],
            "text/plain": [
              "    Year  Production, thousand lbs\n",
              "0   1950                      7657\n",
              "1   1951                      5451\n",
              "2   1952                     10883\n",
              "3   1953                      9554\n",
              "4   1954                      9519\n",
              "5   1955                     10047\n",
              "6   1956                     10663\n",
              "7   1957                     10864\n",
              "8   1958                     11447\n",
              "9   1959                     12710\n",
              "10  1960                     15169\n",
              "11  1961                     16205\n",
              "12  1962                     14507\n",
              "13  1963                     15400\n",
              "14  1964                     16800\n",
              "15  1965                     19000\n",
              "16  1966                     20198\n",
              "17  1967                     18573\n",
              "18  1968                     19375\n",
              "19  1969                     21032\n",
              "20  1970                     23250\n",
              "21  1971                     25219\n",
              "22  1972                     28549\n",
              "23  1973                     29759\n",
              "24  1974                     28262\n",
              "25  1975                     28506\n",
              "26  1976                     33885\n",
              "27  1977                     34776\n",
              "28  1978                     35347\n",
              "29  1979                     34628\n",
              "30  1980                     33043\n",
              "31  1981                     30214\n",
              "32  1982                     31013\n",
              "33  1983                     31496\n",
              "34  1984                     34115\n",
              "35  1985                     33433\n",
              "36  1986                     34198\n",
              "37  1987                     35863\n",
              "38  1988                     37789\n",
              "39  1989                     34561\n",
              "40  1990                     36434\n",
              "41  1991                     34371\n",
              "42  1992                     33307\n",
              "43  1993                     33295\n",
              "44  1994                     36514\n",
              "45  1995                     36593\n",
              "46  1996                     38311\n",
              "47  1997                     42773"
            ]
          },
          "metadata": {
            "tags": []
          },
          "execution_count": 161
        }
      ]
    },
    {
      "cell_type": "markdown",
      "metadata": {
        "id": "S5uN8UbO800I"
      },
      "source": [
        "**a.**\n",
        "\n",
        "**ACF**"
      ]
    },
    {
      "cell_type": "code",
      "metadata": {
        "colab": {
          "base_uri": "https://localhost:8080/",
          "height": 468
        },
        "id": "UQ94GXPGzvoj",
        "outputId": "bdad0c29-ffb1-488d-fc14-e711d9e0cedc"
      },
      "source": [
        "acf = sm.tsa.stattools.acf(data['Production, thousand lbs'], nlags = len(data)-1, fft=False)\n",
        "lags = range(len(acf))\n",
        "acf_series = pd.DataFrame(list(zip(lags, acf)), columns=[\"Lags\", \"ACF\"])\n",
        "print(acf_series.head(10))\n",
        "plot_acf(data['Production, thousand lbs'], lags=40)\n",
        "plt.show()"
      ],
      "execution_count": 156,
      "outputs": [
        {
          "output_type": "stream",
          "text": [
            "   Lags       ACF\n",
            "0     0  1.000000\n",
            "1     1  0.922558\n",
            "2     2  0.850245\n",
            "3     3  0.799690\n",
            "4     4  0.743290\n",
            "5     5  0.692632\n",
            "6     6  0.646648\n",
            "7     7  0.592099\n",
            "8     8  0.526477\n",
            "9     9  0.465218\n"
          ],
          "name": "stdout"
        },
        {
          "output_type": "display_data",
          "data": {
            "image/png": "[encoded data removed]",
            "text/plain": [
              "<Figure size 432x288 with 1 Axes>"
            ]
          },
          "metadata": {
            "tags": [],
            "needs_background": "light"
          }
        }
      ]
    },
    {
      "cell_type": "markdown",
      "metadata": {
        "id": "xH1MNG699Fvc"
      },
      "source": [
        "**Variogram**"
      ]
    },
    {
      "cell_type": "code",
      "metadata": {
        "id": "421JMlgsuNY9",
        "colab": {
          "base_uri": "https://localhost:8080/",
          "height": 335
        },
        "outputId": "484abca5-29c0-446b-e125-e8d26c6a0026"
      },
      "source": [
        "variogram = skg.Variogram(data['Year'].tolist(), data['Production, thousand lbs'].tolist())\n",
        "variogram.plot()\n",
        "plt.show()"
      ],
      "execution_count": 157,
      "outputs": [
        {
          "output_type": "display_data",
          "data": {
            "image/png": "[encoded data removed]",
            "text/plain": [
              "<Figure size 576x360 with 2 Axes>"
            ]
          },
          "metadata": {
            "tags": [],
            "needs_background": "light"
          }
        }
      ]
    },
    {
      "cell_type": "markdown",
      "metadata": {
        "id": "164V1-8qWEm4"
      },
      "source": [
        "**b.**"
      ]
    },
    {
      "cell_type": "markdown",
      "metadata": {
        "id": "g9fpVolLZoLt"
      },
      "source": [
        "**Take the first difference of the time series**"
      ]
    },
    {
      "cell_type": "code",
      "metadata": {
        "colab": {
          "base_uri": "https://localhost:8080/",
          "height": 1000
        },
        "id": "qRbsa7rIWGwu",
        "outputId": "7e49055d-ac2b-4490-dc6b-cc988f92792c"
      },
      "source": [
        "data.index = data['Year']\n",
        "dt = data.drop('Year', axis = 1)\n",
        "data_firstdiff = dt.diff().dropna()\n",
        "data_firstdiff"
      ],
      "execution_count": 158,
      "outputs": [
        {
          "output_type": "execute_result",
          "data": {
            "text/html": [
              "<div>\n",
              "<style scoped>\n",
              "    .dataframe tbody tr th:only-of-type {\n",
              "        vertical-align: middle;\n",
              "    }\n",
              "\n",
              "    .dataframe tbody tr th {\n",
              "        vertical-align: top;\n",
              "    }\n",
              "\n",
              "    .dataframe thead th {\n",
              "        text-align: right;\n",
              "    }\n",
              "</style>\n",
              "<table border=\"1\" class=\"dataframe\">\n",
              "  <thead>\n",
              "    <tr style=\"text-align: right;\">\n",
              "      <th></th>\n",
              "      <th>Production, thousand lbs</th>\n",
              "    </tr>\n",
              "    <tr>\n",
              "      <th>Year</th>\n",
              "      <th></th>\n",
              "    </tr>\n",
              "  </thead>\n",
              "  <tbody>\n",
              "    <tr>\n",
              "      <th>1951</th>\n",
              "      <td>-2206.0</td>\n",
              "    </tr>\n",
              "    <tr>\n",
              "      <th>1952</th>\n",
              "      <td>5432.0</td>\n",
              "    </tr>\n",
              "    <tr>\n",
              "      <th>1953</th>\n",
              "      <td>-1329.0</td>\n",
              "    </tr>\n",
              "    <tr>\n",
              "      <th>1954</th>\n",
              "      <td>-35.0</td>\n",
              "    </tr>\n",
              "    <tr>\n",
              "      <th>1955</th>\n",
              "      <td>528.0</td>\n",
              "    </tr>\n",
              "    <tr>\n",
              "      <th>1956</th>\n",
              "      <td>616.0</td>\n",
              "    </tr>\n",
              "    <tr>\n",
              "      <th>1957</th>\n",
              "      <td>201.0</td>\n",
              "    </tr>\n",
              "    <tr>\n",
              "      <th>1958</th>\n",
              "      <td>583.0</td>\n",
              "    </tr>\n",
              "    <tr>\n",
              "      <th>1959</th>\n",
              "      <td>1263.0</td>\n",
              "    </tr>\n",
              "    <tr>\n",
              "      <th>1960</th>\n",
              "      <td>2459.0</td>\n",
              "    </tr>\n",
              "    <tr>\n",
              "      <th>1961</th>\n",
              "      <td>1036.0</td>\n",
              "    </tr>\n",
              "    <tr>\n",
              "      <th>1962</th>\n",
              "      <td>-1698.0</td>\n",
              "    </tr>\n",
              "    <tr>\n",
              "      <th>1963</th>\n",
              "      <td>893.0</td>\n",
              "    </tr>\n",
              "    <tr>\n",
              "      <th>1964</th>\n",
              "      <td>1400.0</td>\n",
              "    </tr>\n",
              "    <tr>\n",
              "      <th>1965</th>\n",
              "      <td>2200.0</td>\n",
              "    </tr>\n",
              "    <tr>\n",
              "      <th>1966</th>\n",
              "      <td>1198.0</td>\n",
              "    </tr>\n",
              "    <tr>\n",
              "      <th>1967</th>\n",
              "      <td>-1625.0</td>\n",
              "    </tr>\n",
              "    <tr>\n",
              "      <th>1968</th>\n",
              "      <td>802.0</td>\n",
              "    </tr>\n",
              "    <tr>\n",
              "      <th>1969</th>\n",
              "      <td>1657.0</td>\n",
              "    </tr>\n",
              "    <tr>\n",
              "      <th>1970</th>\n",
              "      <td>2218.0</td>\n",
              "    </tr>\n",
              "    <tr>\n",
              "      <th>1971</th>\n",
              "      <td>1969.0</td>\n",
              "    </tr>\n",
              "    <tr>\n",
              "      <th>1972</th>\n",
              "      <td>3330.0</td>\n",
              "    </tr>\n",
              "    <tr>\n",
              "      <th>1973</th>\n",
              "      <td>1210.0</td>\n",
              "    </tr>\n",
              "    <tr>\n",
              "      <th>1974</th>\n",
              "      <td>-1497.0</td>\n",
              "    </tr>\n",
              "    <tr>\n",
              "      <th>1975</th>\n",
              "      <td>244.0</td>\n",
              "    </tr>\n",
              "    <tr>\n",
              "      <th>1976</th>\n",
              "      <td>5379.0</td>\n",
              "    </tr>\n",
              "    <tr>\n",
              "      <th>1977</th>\n",
              "      <td>891.0</td>\n",
              "    </tr>\n",
              "    <tr>\n",
              "      <th>1978</th>\n",
              "      <td>571.0</td>\n",
              "    </tr>\n",
              "    <tr>\n",
              "      <th>1979</th>\n",
              "      <td>-719.0</td>\n",
              "    </tr>\n",
              "    <tr>\n",
              "      <th>1980</th>\n",
              "      <td>-1585.0</td>\n",
              "    </tr>\n",
              "    <tr>\n",
              "      <th>1981</th>\n",
              "      <td>-2829.0</td>\n",
              "    </tr>\n",
              "    <tr>\n",
              "      <th>1982</th>\n",
              "      <td>799.0</td>\n",
              "    </tr>\n",
              "    <tr>\n",
              "      <th>1983</th>\n",
              "      <td>483.0</td>\n",
              "    </tr>\n",
              "    <tr>\n",
              "      <th>1984</th>\n",
              "      <td>2619.0</td>\n",
              "    </tr>\n",
              "    <tr>\n",
              "      <th>1985</th>\n",
              "      <td>-682.0</td>\n",
              "    </tr>\n",
              "    <tr>\n",
              "      <th>1986</th>\n",
              "      <td>765.0</td>\n",
              "    </tr>\n",
              "    <tr>\n",
              "      <th>1987</th>\n",
              "      <td>1665.0</td>\n",
              "    </tr>\n",
              "    <tr>\n",
              "      <th>1988</th>\n",
              "      <td>1926.0</td>\n",
              "    </tr>\n",
              "    <tr>\n",
              "      <th>1989</th>\n",
              "      <td>-3228.0</td>\n",
              "    </tr>\n",
              "    <tr>\n",
              "      <th>1990</th>\n",
              "      <td>1873.0</td>\n",
              "    </tr>\n",
              "    <tr>\n",
              "      <th>1991</th>\n",
              "      <td>-2063.0</td>\n",
              "    </tr>\n",
              "    <tr>\n",
              "      <th>1992</th>\n",
              "      <td>-1064.0</td>\n",
              "    </tr>\n",
              "    <tr>\n",
              "      <th>1993</th>\n",
              "      <td>-12.0</td>\n",
              "    </tr>\n",
              "    <tr>\n",
              "      <th>1994</th>\n",
              "      <td>3219.0</td>\n",
              "    </tr>\n",
              "    <tr>\n",
              "      <th>1995</th>\n",
              "      <td>79.0</td>\n",
              "    </tr>\n",
              "    <tr>\n",
              "      <th>1996</th>\n",
              "      <td>1718.0</td>\n",
              "    </tr>\n",
              "    <tr>\n",
              "      <th>1997</th>\n",
              "      <td>4462.0</td>\n",
              "    </tr>\n",
              "  </tbody>\n",
              "</table>\n",
              "</div>"
            ],
            "text/plain": [
              "      Production, thousand lbs\n",
              "Year                          \n",
              "1951                   -2206.0\n",
              "1952                    5432.0\n",
              "1953                   -1329.0\n",
              "1954                     -35.0\n",
              "1955                     528.0\n",
              "1956                     616.0\n",
              "1957                     201.0\n",
              "1958                     583.0\n",
              "1959                    1263.0\n",
              "1960                    2459.0\n",
              "1961                    1036.0\n",
              "1962                   -1698.0\n",
              "1963                     893.0\n",
              "1964                    1400.0\n",
              "1965                    2200.0\n",
              "1966                    1198.0\n",
              "1967                   -1625.0\n",
              "1968                     802.0\n",
              "1969                    1657.0\n",
              "1970                    2218.0\n",
              "1971                    1969.0\n",
              "1972                    3330.0\n",
              "1973                    1210.0\n",
              "1974                   -1497.0\n",
              "1975                     244.0\n",
              "1976                    5379.0\n",
              "1977                     891.0\n",
              "1978                     571.0\n",
              "1979                    -719.0\n",
              "1980                   -1585.0\n",
              "1981                   -2829.0\n",
              "1982                     799.0\n",
              "1983                     483.0\n",
              "1984                    2619.0\n",
              "1985                    -682.0\n",
              "1986                     765.0\n",
              "1987                    1665.0\n",
              "1988                    1926.0\n",
              "1989                   -3228.0\n",
              "1990                    1873.0\n",
              "1991                   -2063.0\n",
              "1992                   -1064.0\n",
              "1993                     -12.0\n",
              "1994                    3219.0\n",
              "1995                      79.0\n",
              "1996                    1718.0\n",
              "1997                    4462.0"
            ]
          },
          "metadata": {
            "tags": []
          },
          "execution_count": 158
        }
      ]
    },
    {
      "cell_type": "markdown",
      "metadata": {
        "id": "A7B7NqmyZyEg"
      },
      "source": [
        "**ACF**"
      ]
    },
    {
      "cell_type": "code",
      "metadata": {
        "colab": {
          "base_uri": "https://localhost:8080/",
          "height": 468
        },
        "id": "hyrqd2FvZ2Cr",
        "outputId": "20d1b470-635c-4b7b-c1e6-30f8d33318e9"
      },
      "source": [
        "acf_firstdiff = sm.tsa.stattools.acf(data_firstdiff['Production, thousand lbs'], nlags = len(data_firstdiff)-1,fft=False)\n",
        "lags_firstdiff = range(len(acf_firstdiff))\n",
        "acf_firstdiff_series = pd.DataFrame(list(zip(lags_firstdiff, acf_firstdiff)), columns=[\"Lags\", \"ACF\"])\n",
        "print(acf_firstdiff_series.head(10))\n",
        "plot_acf(data_firstdiff['Production, thousand lbs'], lags=40)\n",
        "plt.show()"
      ],
      "execution_count": 162,
      "outputs": [
        {
          "output_type": "stream",
          "text": [
            "   Lags       ACF\n",
            "0     0  1.000000\n",
            "1     1 -0.068287\n",
            "2     2 -0.055488\n",
            "3     3 -0.075906\n",
            "4     4  0.036183\n",
            "5     5 -0.209836\n",
            "6     6  0.092986\n",
            "7     7  0.012633\n",
            "8     8 -0.008009\n",
            "9     9 -0.182479\n"
          ],
          "name": "stdout"
        },
        {
          "output_type": "display_data",
          "data": {
            "image/png": "[encoded data removed]",
            "text/plain": [
              "<Figure size 432x288 with 1 Axes>"
            ]
          },
          "metadata": {
            "tags": [],
            "needs_background": "light"
          }
        }
      ]
    },
    {
      "cell_type": "markdown",
      "metadata": {
        "id": "ov-8WhMVaNJx"
      },
      "source": [
        "**Variogram**"
      ]
    },
    {
      "cell_type": "code",
      "metadata": {
        "colab": {
          "base_uri": "https://localhost:8080/",
          "height": 335
        },
        "id": "p4NyvkoNaSNO",
        "outputId": "c1e700e5-1d4c-449f-cd35-eae9c2609a93"
      },
      "source": [
        "data_firstdiff = data_firstdiff.reset_index()\n",
        "variogram_firstdiff = skg.Variogram(data_firstdiff['Year'].tolist(), data_firstdiff['Production, thousand lbs'].tolist())\n",
        "variogram_firstdiff.plot()\n",
        "plt.show()"
      ],
      "execution_count": 160,
      "outputs": [
        {
          "output_type": "display_data",
          "data": {
            "image/png": "[encoded data removed]",
            "text/plain": [
              "<Figure size 576x360 with 2 Axes>"
            ]
          },
          "metadata": {
            "tags": [],
            "needs_background": "light"
          }
        }
      ]
    }
  ]
}